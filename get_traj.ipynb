{
 "cells": [
  {
   "cell_type": "code",
   "execution_count": 6,
   "metadata": {},
   "outputs": [
    {
     "data": {
      "image/png": "[encoded data removed]",
      "text/plain": [
       "<Figure size 432x288 with 1 Axes>"
      ]
     },
     "metadata": {
      "needs_background": "light"
     },
     "output_type": "display_data"
    }
   ],
   "source": [
    "import numpy as np\n",
    "import matplotlib.pyplot as plt\n",
    "\n",
    "#makes the data\n",
    "y1 = np.random.normal(-2, 2, 1000)\n",
    "y2 = np.random.normal(2, 2, 1000)\n",
    "colors = ['b','g']\n",
    "\n",
    "outF = open(\"frm1_10-run.traj\", \"w\")\n",
    "outF.write('# step         dist                ')\n",
    "outF.write(\"\\n\")\n",
    "counter = 0\n",
    "for d in y1:\n",
    "    c = str(counter)\n",
    "    e = str(d)\n",
    "    #print(c+'    '+e)\n",
    "    outF.write(c+'    '+e)\n",
    "    outF.write(\"\\n\")\n",
    "    counter += 1\n",
    "outF.close()\n",
    "\n",
    "outF = open(\"frm1_10.cv\", \"w\")\n",
    "outF.write(\"\\n\")\n",
    "outF.write('centers 5')\n",
    "outF.write(\"\\n\")\n",
    "outF.close()\n",
    "\n",
    "outF = open(\"frm2_10-run.traj\", \"w\")\n",
    "outF.write('# step         dist                ')\n",
    "outF.write(\"\\n\")\n",
    "counter = 0\n",
    "for d in y2:\n",
    "    c = str(counter)\n",
    "    e = str(d)\n",
    "    #print(c+'    '+e)\n",
    "    outF.write(c+'    '+e)\n",
    "    outF.write(\"\\n\")\n",
    "    counter += 1\n",
    "outF.close()\n",
    "\n",
    "outF = open(\"frm2_10.cv\", \"w\")\n",
    "outF.write(\"\\n\")\n",
    "outF.write('centers 10')\n",
    "outF.write(\"\\n\")\n",
    "outF.close()\n",
    "#plots the histogram\n",
    "fig, ax1 = plt.subplots()\n",
    "ax1.hist([y1,y2],color=colors)\n",
    "ax1.set_xlim(-10,10)\n",
    "ax1.set_ylabel(\"Count\")\n",
    "plt.tight_layout()\n",
    "plt.show()"
   ]
  },
  {
   "cell_type": "code",
   "execution_count": null,
   "metadata": {},
   "outputs": [],
   "source": []
  }
 ],
 "metadata": {
  "kernelspec": {
   "display_name": "Python 3",
   "language": "python",
   "name": "python3"
  },
  "language_info": {
   "codemirror_mode": {
    "name": "ipython",
    "version": 3
   },
   "file_extension": ".py",
   "mimetype": "text/x-python",
   "name": "python",
   "nbconvert_exporter": "python",
   "pygments_lexer": "ipython3",
   "version": "3.7.6"
  }
 },
 "nbformat": 4,
 "nbformat_minor": 4
}
